{
  "nbformat": 4,
  "nbformat_minor": 0,
  "metadata": {
    "colab": {
      "name": "AutoSklearn with sample csv",
      "version": "0.3.2",
      "provenance": [],
      "include_colab_link": true
    },
    "kernelspec": {
      "name": "python3",
      "display_name": "Python 3"
    },
    "accelerator": "GPU"
  },
  "cells": [
    {
      "cell_type": "markdown",
      "metadata": {
        "id": "view-in-github",
        "colab_type": "text"
      },
      "source": [
        "<a href=\"https://colab.research.google.com/github/diam045/ParamOptimizer_pkg/blob/master/AutoSklearn_with_sample_csv.ipynb\" target=\"_parent\"><img src=\"https://colab.research.google.com/assets/colab-badge.svg\" alt=\"Open In Colab\"/></a>"
      ]
    },
    {
      "cell_type": "markdown",
      "metadata": {
        "id": "YntE1PEhcZGK",
        "colab_type": "text"
      },
      "source": [
        "# auto sklearn をインストール"
      ]
    },
    {
      "cell_type": "code",
      "metadata": {
        "id": "KOD5AH1KBDti",
        "colab_type": "code",
        "colab": {
          "base_uri": "https://localhost:8080/",
          "height": 1000
        },
        "outputId": "13f8aae2-b7e7-4f90-b69e-2508a590beae"
      },
      "source": [
        "!sudo apt-get install build-essential swig\n",
        "!curl https://raw.githubusercontent.com/automl/auto-sklearn/master/requirements.txt | xargs -n 1 -L 1 pip install\n",
        "!pip install auto-sklearn\n",
        "\n",
        "for _ in range(3):\n",
        "    try:\n",
        "        import autosklearn.classification\n",
        "        break\n",
        "    except:\n",
        "        pass\n",
        "else:\n",
        "    raise ImportError(\"failed to import from autosklearn\")\n"
      ],
      "execution_count": 11,
      "outputs": [
        {
          "output_type": "stream",
          "text": [
            "Reading package lists... Done\n",
            "Building dependency tree       \n",
            "Reading state information... Done\n",
            "build-essential is already the newest version (12.4ubuntu1).\n",
            "The following package was automatically installed and is no longer required:\n",
            "  libnvidia-common-410\n",
            "Use 'sudo apt autoremove' to remove it.\n",
            "Suggested packages:\n",
            "  swig-doc swig-examples swig3.0-examples swig3.0-doc\n",
            "The following NEW packages will be installed:\n",
            "  swig swig3.0\n",
            "0 upgraded, 2 newly installed, 0 to remove and 7 not upgraded.\n",
            "Need to get 1,100 kB of archives.\n",
            "After this operation, 5,822 kB of additional disk space will be used.\n",
            "Get:1 http://archive.ubuntu.com/ubuntu bionic/universe amd64 swig3.0 amd64 3.0.12-1 [1,094 kB]\n",
            "Get:2 http://archive.ubuntu.com/ubuntu bionic/universe amd64 swig amd64 3.0.12-1 [6,460 B]\n",
            "Fetched 1,100 kB in 1s (1,080 kB/s)\n",
            "debconf: unable to initialize frontend: Dialog\n",
            "debconf: (No usable dialog-like program is installed, so the dialog based frontend cannot be used. at /usr/share/perl5/Debconf/FrontEnd/Dialog.pm line 76, <> line 2.)\n",
            "debconf: falling back to frontend: Readline\n",
            "debconf: unable to initialize frontend: Readline\n",
            "debconf: (This frontend requires a controlling tty.)\n",
            "debconf: falling back to frontend: Teletype\n",
            "dpkg-preconfigure: unable to re-open stdin: \n",
            "Selecting previously unselected package swig3.0.\n",
            "(Reading database ... 131331 files and directories currently installed.)\n",
            "Preparing to unpack .../swig3.0_3.0.12-1_amd64.deb ...\n",
            "Unpacking swig3.0 (3.0.12-1) ...\n",
            "Selecting previously unselected package swig.\n",
            "Preparing to unpack .../swig_3.0.12-1_amd64.deb ...\n",
            "Unpacking swig (3.0.12-1) ...\n",
            "Setting up swig3.0 (3.0.12-1) ...\n",
            "Processing triggers for man-db (2.8.3-2ubuntu0.1) ...\n",
            "Setting up swig (3.0.12-1) ...\n",
            "  % Total    % Received % Xferd  Average Speed   Time    Time     Time  Current\n",
            "                                 Dload  Upload   Total   Spent    Left  Speed\n",
            "100   206  100   206    0     0   1095      0 --:--:-- --:--:-- --:--:--  1101\n",
            "Requirement already satisfied: setuptools in /usr/local/lib/python3.6/dist-packages (41.0.1)\n",
            "Requirement already satisfied: nose in /usr/local/lib/python3.6/dist-packages (1.3.7)\n",
            "Requirement already satisfied: Cython in /usr/local/lib/python3.6/dist-packages (0.29.12)\n",
            "Requirement already satisfied: numpy>=1.9.0 in /usr/local/lib/python3.6/dist-packages (1.16.4)\n",
            "Requirement already satisfied: scipy>=0.14.1 in /usr/local/lib/python3.6/dist-packages (1.3.0)\n",
            "Requirement already satisfied: numpy>=1.13.3 in /usr/local/lib/python3.6/dist-packages (from scipy>=0.14.1) (1.16.4)\n",
            "Collecting scikit-learn<0.20,>=0.19\n",
            "\u001b[?25l  Downloading https://files.pythonhosted.org/packages/f9/c8/8db4108aba5e2166cd2ea4eafa1a4b82f89240a1fa85733029cc2358ad1f/scikit_learn-0.19.2-cp36-cp36m-manylinux1_x86_64.whl (4.9MB)\n",
            "\u001b[K     |████████████████████████████████| 4.9MB 3.4MB/s \n",
            "\u001b[31mERROR: yellowbrick 0.9.1 has requirement scikit-learn>=0.20, but you'll have scikit-learn 0.19.2 which is incompatible.\u001b[0m\n",
            "\u001b[31mERROR: imbalanced-learn 0.4.3 has requirement scikit-learn>=0.20, but you'll have scikit-learn 0.19.2 which is incompatible.\u001b[0m\n",
            "\u001b[?25hInstalling collected packages: scikit-learn\n",
            "  Found existing installation: scikit-learn 0.21.2\n",
            "    Uninstalling scikit-learn-0.21.2:\n",
            "      Successfully uninstalled scikit-learn-0.21.2\n",
            "Successfully installed scikit-learn-0.19.2\n",
            "Requirement already satisfied: xgboost>=0.80 in /usr/local/lib/python3.6/dist-packages (0.90)\n",
            "Requirement already satisfied: numpy in /usr/local/lib/python3.6/dist-packages (from xgboost>=0.80) (1.16.4)\n",
            "Requirement already satisfied: scipy in /usr/local/lib/python3.6/dist-packages (from xgboost>=0.80) (1.3.0)\n",
            "Collecting lockfile\n",
            "  Downloading https://files.pythonhosted.org/packages/c8/22/9460e311f340cb62d26a38c419b1381b8593b0bb6b5d1f056938b086d362/lockfile-0.12.2-py2.py3-none-any.whl\n",
            "Installing collected packages: lockfile\n",
            "Successfully installed lockfile-0.12.2\n",
            "Requirement already satisfied: joblib in /usr/local/lib/python3.6/dist-packages (0.13.2)\n",
            "Requirement already satisfied: psutil in /usr/local/lib/python3.6/dist-packages (5.4.8)\n",
            "Requirement already satisfied: pyyaml in /usr/local/lib/python3.6/dist-packages (3.13)\n",
            "Collecting liac-arff\n",
            "  Downloading https://files.pythonhosted.org/packages/e9/35/fbc9217cfa91d98888b43e1a19c03a50d716108c58494c558c65e308f372/liac-arff-2.4.0.tar.gz\n",
            "Building wheels for collected packages: liac-arff\n",
            "  Building wheel for liac-arff (setup.py) ... \u001b[?25l\u001b[?25hdone\n",
            "  Stored in directory: /root/.cache/pip/wheels/d1/6a/e7/529dc54d76ecede4346164a09ae3168df358945612710f5203\n",
            "Successfully built liac-arff\n",
            "Installing collected packages: liac-arff\n",
            "Successfully installed liac-arff-2.4.0\n",
            "Requirement already satisfied: pandas in /usr/local/lib/python3.6/dist-packages (0.24.2)\n",
            "Requirement already satisfied: python-dateutil>=2.5.0 in /usr/local/lib/python3.6/dist-packages (from pandas) (2.5.3)\n",
            "Requirement already satisfied: pytz>=2011k in /usr/local/lib/python3.6/dist-packages (from pandas) (2018.9)\n",
            "Requirement already satisfied: numpy>=1.12.0 in /usr/local/lib/python3.6/dist-packages (from pandas) (1.16.4)\n",
            "Requirement already satisfied: six>=1.5 in /usr/local/lib/python3.6/dist-packages (from python-dateutil>=2.5.0->pandas) (1.12.0)\n",
            "Collecting ConfigSpace<0.5,>=0.4.0\n",
            "\u001b[?25l  Downloading https://files.pythonhosted.org/packages/42/de/4e8e4f26332fc65404f52baa112defbf822b6738b60bfa6b2993f5c60933/ConfigSpace-0.4.10.tar.gz (882kB)\n",
            "\u001b[K     |████████████████████████████████| 890kB 3.3MB/s \n",
            "\u001b[?25hRequirement already satisfied: numpy in /usr/local/lib/python3.6/dist-packages (from ConfigSpace<0.5,>=0.4.0) (1.16.4)\n",
            "Requirement already satisfied: pyparsing in /usr/local/lib/python3.6/dist-packages (from ConfigSpace<0.5,>=0.4.0) (2.4.0)\n",
            "Requirement already satisfied: typing in /usr/local/lib/python3.6/dist-packages (from ConfigSpace<0.5,>=0.4.0) (3.7.4)\n",
            "Requirement already satisfied: Cython in /usr/local/lib/python3.6/dist-packages (from ConfigSpace<0.5,>=0.4.0) (0.29.12)\n",
            "Building wheels for collected packages: ConfigSpace\n",
            "  Building wheel for ConfigSpace (setup.py) ... \u001b[?25l\u001b[?25hdone\n",
            "  Stored in directory: /root/.cache/pip/wheels/75/83/cb/28dd42bac69c8867d485138030daa83841c7f84afe68b2fdf7\n",
            "Successfully built ConfigSpace\n",
            "Installing collected packages: ConfigSpace\n",
            "Successfully installed ConfigSpace-0.4.10\n",
            "Collecting pynisher>=0.4.2\n",
            "  Downloading https://files.pythonhosted.org/packages/b2/21/c86c64c305da6d43fb89780d33cbc839c07736b71955a8bdb642a02b7538/pynisher-0.5.0.tar.gz\n",
            "Requirement already satisfied: docutils>=0.3 in /usr/local/lib/python3.6/dist-packages (from pynisher>=0.4.2) (0.14)\n",
            "Requirement already satisfied: setuptools in /usr/local/lib/python3.6/dist-packages (from pynisher>=0.4.2) (41.0.1)\n",
            "Requirement already satisfied: psutil in /usr/local/lib/python3.6/dist-packages (from pynisher>=0.4.2) (5.4.8)\n",
            "Building wheels for collected packages: pynisher\n",
            "  Building wheel for pynisher (setup.py) ... \u001b[?25l\u001b[?25hdone\n",
            "  Stored in directory: /root/.cache/pip/wheels/af/2a/c4/ec3abc8a2f786ef9786ea8fe6ff629a4e54812a3f98cc41b47\n",
            "Successfully built pynisher\n",
            "Installing collected packages: pynisher\n",
            "Successfully installed pynisher-0.5.0\n",
            "Collecting pyrfr<0.8,>=0.7\n",
            "\u001b[?25l  Downloading https://files.pythonhosted.org/packages/c3/c6/c555cfa3c7d0078dded091d4901ed52344bbb925077aa70b871faf35fd58/pyrfr-0.7.4.tar.gz (291kB)\n",
            "\u001b[K     |████████████████████████████████| 296kB 3.3MB/s \n",
            "\u001b[?25hBuilding wheels for collected packages: pyrfr\n",
            "  Building wheel for pyrfr (setup.py) ... \u001b[?25l\u001b[?25hdone\n",
            "  Stored in directory: /root/.cache/pip/wheels/fb/98/fd/b1d53cab6d5ed836980777d9733d7e549d82a727650eed6f6d\n",
            "Successfully built pyrfr\n",
            "Installing collected packages: pyrfr\n",
            "Successfully installed pyrfr-0.7.4\n",
            "Collecting smac==0.8\n",
            "\u001b[?25l  Downloading https://files.pythonhosted.org/packages/33/ab/2b0a6fb00bd76e2415a04dcca453ad0b0db9b4218b02401306ff2bc6135d/smac-0.8.0.tar.gz (94kB)\n",
            "\u001b[K     |████████████████████████████████| 102kB 4.2MB/s \n",
            "\u001b[?25hRequirement already satisfied: setuptools in /usr/local/lib/python3.6/dist-packages (from smac==0.8) (41.0.1)\n",
            "Requirement already satisfied: cython in /usr/local/lib/python3.6/dist-packages (from smac==0.8) (0.29.12)\n",
            "Requirement already satisfied: numpy>=1.7.1 in /usr/local/lib/python3.6/dist-packages (from smac==0.8) (1.16.4)\n",
            "Requirement already satisfied: scipy>=0.18.1 in /usr/local/lib/python3.6/dist-packages (from smac==0.8) (1.3.0)\n",
            "Requirement already satisfied: six in /usr/local/lib/python3.6/dist-packages (from smac==0.8) (1.12.0)\n",
            "Requirement already satisfied: psutil in /usr/local/lib/python3.6/dist-packages (from smac==0.8) (5.4.8)\n",
            "Requirement already satisfied: pynisher>=0.4.1 in /usr/local/lib/python3.6/dist-packages (from smac==0.8) (0.5.0)\n",
            "Requirement already satisfied: ConfigSpace<0.5,>=0.4.3 in /usr/local/lib/python3.6/dist-packages (from smac==0.8) (0.4.10)\n",
            "Requirement already satisfied: scikit-learn>=0.18.0 in /usr/local/lib/python3.6/dist-packages (from smac==0.8) (0.19.2)\n",
            "Requirement already satisfied: typing in /usr/local/lib/python3.6/dist-packages (from smac==0.8) (3.7.4)\n",
            "Requirement already satisfied: pyrfr>=0.5.0 in /usr/local/lib/python3.6/dist-packages (from smac==0.8) (0.7.4)\n",
            "Requirement already satisfied: sphinx in /usr/local/lib/python3.6/dist-packages (from smac==0.8) (1.8.5)\n",
            "Collecting sphinx_rtd_theme (from smac==0.8)\n",
            "\u001b[?25l  Downloading https://files.pythonhosted.org/packages/60/b4/4df37087a1d36755e3a3bfd2a30263f358d2dea21938240fa02313d45f51/sphinx_rtd_theme-0.4.3-py2.py3-none-any.whl (6.4MB)\n",
            "\u001b[K     |████████████████████████████████| 6.4MB 10.5MB/s \n",
            "\u001b[?25hRequirement already satisfied: joblib in /usr/local/lib/python3.6/dist-packages (from smac==0.8) (0.13.2)\n",
            "Requirement already satisfied: docutils>=0.3 in /usr/local/lib/python3.6/dist-packages (from pynisher>=0.4.1->smac==0.8) (0.14)\n",
            "Requirement already satisfied: pyparsing in /usr/local/lib/python3.6/dist-packages (from ConfigSpace<0.5,>=0.4.3->smac==0.8) (2.4.0)\n",
            "Requirement already satisfied: babel!=2.0,>=1.3 in /usr/local/lib/python3.6/dist-packages (from sphinx->smac==0.8) (2.7.0)\n",
            "Requirement already satisfied: imagesize in /usr/local/lib/python3.6/dist-packages (from sphinx->smac==0.8) (1.1.0)\n",
            "Requirement already satisfied: sphinxcontrib-websupport in /usr/local/lib/python3.6/dist-packages (from sphinx->smac==0.8) (1.1.2)\n",
            "Requirement already satisfied: Pygments>=2.0 in /usr/local/lib/python3.6/dist-packages (from sphinx->smac==0.8) (2.1.3)\n",
            "Requirement already satisfied: alabaster<0.8,>=0.7 in /usr/local/lib/python3.6/dist-packages (from sphinx->smac==0.8) (0.7.12)\n",
            "Requirement already satisfied: requests>=2.0.0 in /usr/local/lib/python3.6/dist-packages (from sphinx->smac==0.8) (2.21.0)\n",
            "Requirement already satisfied: packaging in /usr/local/lib/python3.6/dist-packages (from sphinx->smac==0.8) (19.0)\n",
            "Requirement already satisfied: snowballstemmer>=1.1 in /usr/local/lib/python3.6/dist-packages (from sphinx->smac==0.8) (1.9.0)\n",
            "Requirement already satisfied: Jinja2>=2.3 in /usr/local/lib/python3.6/dist-packages (from sphinx->smac==0.8) (2.10.1)\n",
            "Requirement already satisfied: pytz>=2015.7 in /usr/local/lib/python3.6/dist-packages (from babel!=2.0,>=1.3->sphinx->smac==0.8) (2018.9)\n",
            "Requirement already satisfied: idna<2.9,>=2.5 in /usr/local/lib/python3.6/dist-packages (from requests>=2.0.0->sphinx->smac==0.8) (2.8)\n",
            "Requirement already satisfied: urllib3<1.25,>=1.21.1 in /usr/local/lib/python3.6/dist-packages (from requests>=2.0.0->sphinx->smac==0.8) (1.24.3)\n",
            "Requirement already satisfied: certifi>=2017.4.17 in /usr/local/lib/python3.6/dist-packages (from requests>=2.0.0->sphinx->smac==0.8) (2019.6.16)\n",
            "Requirement already satisfied: chardet<3.1.0,>=3.0.2 in /usr/local/lib/python3.6/dist-packages (from requests>=2.0.0->sphinx->smac==0.8) (3.0.4)\n",
            "Requirement already satisfied: MarkupSafe>=0.23 in /usr/local/lib/python3.6/dist-packages (from Jinja2>=2.3->sphinx->smac==0.8) (1.1.1)\n",
            "Building wheels for collected packages: smac\n",
            "  Building wheel for smac (setup.py) ... \u001b[?25l\u001b[?25hdone\n",
            "  Stored in directory: /root/.cache/pip/wheels/12/52/83/d2d66a840968025d072ddb1cd776fdc5eb5e337e1cc887bc3f\n",
            "Successfully built smac\n",
            "Installing collected packages: sphinx-rtd-theme, smac\n",
            "Successfully installed smac-0.8.0 sphinx-rtd-theme-0.4.3\n",
            "Collecting auto-sklearn\n",
            "\u001b[?25l  Downloading https://files.pythonhosted.org/packages/1d/99/27caac4f6804be48722158e31c630e0737110581774df0615a36b21239aa/auto-sklearn-0.5.2.tar.gz (3.4MB)\n",
            "\u001b[K     |████████████████████████████████| 3.4MB 3.4MB/s \n",
            "\u001b[?25hRequirement already satisfied: setuptools in /usr/local/lib/python3.6/dist-packages (from auto-sklearn) (41.0.1)\n",
            "Requirement already satisfied: nose in /usr/local/lib/python3.6/dist-packages (from auto-sklearn) (1.3.7)\n",
            "Requirement already satisfied: Cython in /usr/local/lib/python3.6/dist-packages (from auto-sklearn) (0.29.12)\n",
            "Requirement already satisfied: numpy>=1.9.0 in /usr/local/lib/python3.6/dist-packages (from auto-sklearn) (1.16.4)\n",
            "Requirement already satisfied: scipy>=0.14.1 in /usr/local/lib/python3.6/dist-packages (from auto-sklearn) (1.3.0)\n",
            "Requirement already satisfied: scikit-learn<0.20,>=0.19 in /usr/local/lib/python3.6/dist-packages (from auto-sklearn) (0.19.2)\n",
            "Requirement already satisfied: xgboost>=0.80 in /usr/local/lib/python3.6/dist-packages (from auto-sklearn) (0.90)\n",
            "Requirement already satisfied: lockfile in /usr/local/lib/python3.6/dist-packages (from auto-sklearn) (0.12.2)\n",
            "Requirement already satisfied: joblib in /usr/local/lib/python3.6/dist-packages (from auto-sklearn) (0.13.2)\n",
            "Requirement already satisfied: psutil in /usr/local/lib/python3.6/dist-packages (from auto-sklearn) (5.4.8)\n",
            "Requirement already satisfied: pyyaml in /usr/local/lib/python3.6/dist-packages (from auto-sklearn) (3.13)\n",
            "Requirement already satisfied: liac-arff in /usr/local/lib/python3.6/dist-packages (from auto-sklearn) (2.4.0)\n",
            "Requirement already satisfied: pandas in /usr/local/lib/python3.6/dist-packages (from auto-sklearn) (0.24.2)\n",
            "Requirement already satisfied: ConfigSpace<0.5,>=0.4.0 in /usr/local/lib/python3.6/dist-packages (from auto-sklearn) (0.4.10)\n",
            "Requirement already satisfied: pynisher>=0.4.2 in /usr/local/lib/python3.6/dist-packages (from auto-sklearn) (0.5.0)\n",
            "Requirement already satisfied: pyrfr<0.8,>=0.7 in /usr/local/lib/python3.6/dist-packages (from auto-sklearn) (0.7.4)\n",
            "Requirement already satisfied: smac==0.8 in /usr/local/lib/python3.6/dist-packages (from auto-sklearn) (0.8.0)\n",
            "Requirement already satisfied: pytz>=2011k in /usr/local/lib/python3.6/dist-packages (from pandas->auto-sklearn) (2018.9)\n",
            "Requirement already satisfied: python-dateutil>=2.5.0 in /usr/local/lib/python3.6/dist-packages (from pandas->auto-sklearn) (2.5.3)\n",
            "Requirement already satisfied: typing in /usr/local/lib/python3.6/dist-packages (from ConfigSpace<0.5,>=0.4.0->auto-sklearn) (3.7.4)\n",
            "Requirement already satisfied: pyparsing in /usr/local/lib/python3.6/dist-packages (from ConfigSpace<0.5,>=0.4.0->auto-sklearn) (2.4.0)\n",
            "Requirement already satisfied: docutils>=0.3 in /usr/local/lib/python3.6/dist-packages (from pynisher>=0.4.2->auto-sklearn) (0.14)\n",
            "Requirement already satisfied: six in /usr/local/lib/python3.6/dist-packages (from smac==0.8->auto-sklearn) (1.12.0)\n",
            "Requirement already satisfied: sphinx in /usr/local/lib/python3.6/dist-packages (from smac==0.8->auto-sklearn) (1.8.5)\n",
            "Requirement already satisfied: sphinx-rtd-theme in /usr/local/lib/python3.6/dist-packages (from smac==0.8->auto-sklearn) (0.4.3)\n",
            "Requirement already satisfied: requests>=2.0.0 in /usr/local/lib/python3.6/dist-packages (from sphinx->smac==0.8->auto-sklearn) (2.21.0)\n",
            "Requirement already satisfied: packaging in /usr/local/lib/python3.6/dist-packages (from sphinx->smac==0.8->auto-sklearn) (19.0)\n",
            "Requirement already satisfied: sphinxcontrib-websupport in /usr/local/lib/python3.6/dist-packages (from sphinx->smac==0.8->auto-sklearn) (1.1.2)\n",
            "Requirement already satisfied: imagesize in /usr/local/lib/python3.6/dist-packages (from sphinx->smac==0.8->auto-sklearn) (1.1.0)\n",
            "Requirement already satisfied: alabaster<0.8,>=0.7 in /usr/local/lib/python3.6/dist-packages (from sphinx->smac==0.8->auto-sklearn) (0.7.12)\n",
            "Requirement already satisfied: snowballstemmer>=1.1 in /usr/local/lib/python3.6/dist-packages (from sphinx->smac==0.8->auto-sklearn) (1.9.0)\n",
            "Requirement already satisfied: babel!=2.0,>=1.3 in /usr/local/lib/python3.6/dist-packages (from sphinx->smac==0.8->auto-sklearn) (2.7.0)\n",
            "Requirement already satisfied: Pygments>=2.0 in /usr/local/lib/python3.6/dist-packages (from sphinx->smac==0.8->auto-sklearn) (2.1.3)\n",
            "Requirement already satisfied: Jinja2>=2.3 in /usr/local/lib/python3.6/dist-packages (from sphinx->smac==0.8->auto-sklearn) (2.10.1)\n",
            "Requirement already satisfied: chardet<3.1.0,>=3.0.2 in /usr/local/lib/python3.6/dist-packages (from requests>=2.0.0->sphinx->smac==0.8->auto-sklearn) (3.0.4)\n",
            "Requirement already satisfied: idna<2.9,>=2.5 in /usr/local/lib/python3.6/dist-packages (from requests>=2.0.0->sphinx->smac==0.8->auto-sklearn) (2.8)\n",
            "Requirement already satisfied: urllib3<1.25,>=1.21.1 in /usr/local/lib/python3.6/dist-packages (from requests>=2.0.0->sphinx->smac==0.8->auto-sklearn) (1.24.3)\n",
            "Requirement already satisfied: certifi>=2017.4.17 in /usr/local/lib/python3.6/dist-packages (from requests>=2.0.0->sphinx->smac==0.8->auto-sklearn) (2019.6.16)\n",
            "Requirement already satisfied: MarkupSafe>=0.23 in /usr/local/lib/python3.6/dist-packages (from Jinja2>=2.3->sphinx->smac==0.8->auto-sklearn) (1.1.1)\n",
            "Building wheels for collected packages: auto-sklearn\n",
            "  Building wheel for auto-sklearn (setup.py) ... \u001b[?25l\u001b[?25hdone\n",
            "  Stored in directory: /root/.cache/pip/wheels/67/21/43/182fed664b6474f88600c110c4ebd254d6256ba59175cef3fd\n",
            "Successfully built auto-sklearn\n",
            "Installing collected packages: auto-sklearn\n",
            "Successfully installed auto-sklearn-0.5.2\n"
          ],
          "name": "stdout"
        },
        {
          "output_type": "stream",
          "text": [
            "/usr/local/lib/python3.6/dist-packages/sklearn/ensemble/weight_boosting.py:29: DeprecationWarning: numpy.core.umath_tests is an internal NumPy module and should not be imported. It will be removed in a future NumPy release.\n",
            "  from numpy.core.umath_tests import inner1d\n"
          ],
          "name": "stderr"
        }
      ]
    },
    {
      "cell_type": "code",
      "metadata": {
        "id": "faOvoeAXdLsZ",
        "colab_type": "code",
        "colab": {
          "base_uri": "https://localhost:8080/",
          "height": 493
        },
        "outputId": "89173cf0-0cd2-41fa-cfcb-909e4fcd3542"
      },
      "source": [
        "!sudo apt-get update\n",
        "!sudo apt-get install google-drive-ocamlfuse fuse -y"
      ],
      "execution_count": 8,
      "outputs": [
        {
          "output_type": "stream",
          "text": [
            "\r0% [Working]\r            \rGet:1 http://ppa.launchpad.net/graphics-drivers/ppa/ubuntu bionic InRelease [21.3 kB]\n",
            "\r0% [Waiting for headers] [Connecting to security.ubuntu.com (91.189.91.23)] [Co\r                                                                               \rHit:2 http://archive.ubuntu.com/ubuntu bionic InRelease\n",
            "\r0% [Connecting to security.ubuntu.com (91.189.91.23)] [Connecting to cloud.r-pr\r                                                                               \rGet:3 http://archive.ubuntu.com/ubuntu bionic-updates InRelease [88.7 kB]\n",
            "\r0% [3 InRelease 5,500 B/88.7 kB 6%] [Connecting to security.ubuntu.com (91.189.\r0% [2 InRelease gpgv 242 kB] [3 InRelease 5,500 B/88.7 kB 6%] [Connecting to se\r                                                                               \rGet:4 http://ppa.launchpad.net/marutter/c2d4u3.5/ubuntu bionic InRelease [15.4 kB]\n",
            "\r0% [2 InRelease gpgv 242 kB] [3 InRelease 14.2 kB/88.7 kB 16%] [Connecting to s\r0% [2 InRelease gpgv 242 kB] [3 InRelease 17.1 kB/88.7 kB 19%] [Connecting to s\r0% [2 InRelease gpgv 242 kB] [Connecting to security.ubuntu.com (91.189.91.23)]\r                                                                               \rGet:5 http://archive.ubuntu.com/ubuntu bionic-backports InRelease [74.6 kB]\n",
            "\r0% [2 InRelease gpgv 242 kB] [5 InRelease 11.3 kB/74.6 kB 15%] [Waiting for hea\r0% [2 InRelease gpgv 242 kB] [Waiting for headers] [Connecting to cloud.r-proje\r                                                                               \rGet:6 http://security.ubuntu.com/ubuntu bionic-security InRelease [88.7 kB]\n",
            "\r0% [2 InRelease gpgv 242 kB] [6 InRelease 2,589 B/88.7 kB 3%] [Connected to clo\r                                                                               \rGet:7 https://cloud.r-project.org/bin/linux/ubuntu bionic-cran35/ InRelease [3,626 B]\n",
            "\r0% [2 InRelease gpgv 242 kB] [6 InRelease 14.2 kB/88.7 kB 16%] [7 InRelease 3,6\r0% [2 InRelease gpgv 242 kB] [6 InRelease 14.2 kB/88.7 kB 16%] [Waiting for hea\r                                                                               \rIgn:8 https://developer.download.nvidia.com/compute/cuda/repos/ubuntu1804/x86_64  InRelease\n",
            "\r0% [2 InRelease gpgv 242 kB] [6 InRelease 14.2 kB/88.7 kB 16%] [Waiting for hea\r                                                                               \r0% [6 InRelease 14.2 kB/88.7 kB 16%] [Waiting for headers]\r0% [1 InRelease gpgv 21.3 kB] [6 InRelease 14.2 kB/88.7 kB 16%] [Waiting for he\r                                                                               \r0% [6 InRelease 34.4 kB/88.7 kB 39%] [Waiting for headers]\r0% [4 InRelease gpgv 15.4 kB] [6 InRelease 34.4 kB/88.7 kB 39%] [Waiting for he\r                                                                               \rGet:9 http://ppa.launchpad.net/graphics-drivers/ppa/ubuntu bionic/main amd64 Packages [29.0 kB]\n",
            "\r0% [4 InRelease gpgv 15.4 kB] [6 InRelease 43.1 kB/88.7 kB 49%] [Waiting for he\r0% [4 InRelease gpgv 15.4 kB] [6 InRelease 51.8 kB/88.7 kB 58%] [Waiting for he\r0% [9 Packages store 0 B] [4 InRelease gpgv 15.4 kB] [6 InRelease 51.8 kB/88.7 \r0% [4 InRelease gpgv 15.4 kB] [6 InRelease 54.7 kB/88.7 kB 62%] [Waiting for he\r                                                                               \rIgn:10 https://developer.download.nvidia.com/compute/machine-learning/repos/ubuntu1804/x86_64  InRelease\n",
            "\r                                                                               \r0% [4 InRelease gpgv 15.4 kB] [6 InRelease 66.3 kB/88.7 kB 75%]\r                                                               \rHit:11 https://developer.download.nvidia.com/compute/cuda/repos/ubuntu1804/x86_64  Release\n",
            "\r0% [4 InRelease gpgv 15.4 kB] [6 InRelease 72.1 kB/88.7 kB 81%]\r                                                               \r0% [6 InRelease 75.0 kB/88.7 kB 85%] [Waiting for headers]\r                                                          \rGet:12 https://developer.download.nvidia.com/compute/machine-learning/repos/ubuntu1804/x86_64  Release [564 B]\n",
            "\r                                                          \r0% [6 InRelease 75.0 kB/88.7 kB 85%]\r0% [3 InRelease gpgv 88.7 kB] [6 InRelease 75.0 kB/88.7 kB 85%] [Connecting to \r                                                                               \rGet:13 https://developer.download.nvidia.com/compute/machine-learning/repos/ubuntu1804/x86_64  Release.gpg [833 B]\n",
            "\r0% [3 InRelease gpgv 88.7 kB] [6 InRelease 80.8 kB/88.7 kB 91%] [13 Release.gpg\r0% [3 InRelease gpgv 88.7 kB] [6 InRelease 80.8 kB/88.7 kB 91%] [Connecting to \r                                                                               \r0% [3 InRelease gpgv 88.7 kB] [Waiting for headers]\r                                                   \rGet:14 http://ppa.launchpad.net/marutter/c2d4u3.5/ubuntu bionic/main Sources [1,672 kB]\n",
            "\r0% [3 InRelease gpgv 88.7 kB] [14 Sources 14.3 kB/1,672 kB 1%]\r                                                              \r0% [14 Sources 1,425 kB/1,672 kB 85%]\r0% [5 InRelease gpgv 74.6 kB] [14 Sources 1,660 kB/1,672 kB 99%]\r                                                                \r0% [5 InRelease gpgv 74.6 kB] [Waiting for headers]\r0% [14 Sources store 0 B] [5 InRelease gpgv 74.6 kB] [Waiting for headers]\r                                                                          \rGet:15 http://archive.ubuntu.com/ubuntu bionic-updates/main amd64 Packages [902 kB]\n",
            "\r0% [14 Sources store 0 B] [5 InRelease gpgv 74.6 kB] [15 Packages 12.8 kB/902 k\r                                                                               \rGet:16 http://ppa.launchpad.net/marutter/c2d4u3.5/ubuntu bionic/main amd64 Packages [802 kB]\n",
            "Get:17 http://archive.ubuntu.com/ubuntu bionic-updates/universe amd64 Packages [1,250 kB]\n",
            "Get:18 http://archive.ubuntu.com/ubuntu bionic-backports/universe amd64 Packages [3,930 B]\n",
            "Get:19 https://cloud.r-project.org/bin/linux/ubuntu bionic-cran35/ Packages [65.5 kB]\n",
            "Get:21 https://developer.download.nvidia.com/compute/machine-learning/repos/ubuntu1804/x86_64  Packages [11.5 kB]\n",
            "Get:22 http://security.ubuntu.com/ubuntu bionic-security/main amd64 Packages [594 kB]\n",
            "Get:23 http://security.ubuntu.com/ubuntu bionic-security/universe amd64 Packages [727 kB]\n",
            "Fetched 6,351 kB in 2s (4,011 kB/s)\n",
            "Reading package lists... Done\n",
            "Reading package lists... Done\n",
            "Building dependency tree       \n",
            "Reading state information... Done\n",
            "E: Unable to locate package google-drive-ocamlfuse\n"
          ],
          "name": "stdout"
        }
      ]
    },
    {
      "cell_type": "markdown",
      "metadata": {
        "id": "DLVP5BmpRdO9",
        "colab_type": "text"
      },
      "source": [
        "# ローカルデータの読み込み\n",
        "## Google Driveのマウント"
      ]
    },
    {
      "cell_type": "code",
      "metadata": {
        "id": "pUVV9C2Yd_jt",
        "colab_type": "code",
        "colab": {
          "base_uri": "https://localhost:8080/",
          "height": 122
        },
        "outputId": "99cd23bb-2f41-4549-a0f1-74e2c4b49f2d"
      },
      "source": [
        "from google.colab import drive\n",
        "drive.mount('/drive')"
      ],
      "execution_count": 3,
      "outputs": [
        {
          "output_type": "stream",
          "text": [
            "Go to this URL in a browser: https://accounts.google.com/o/oauth2/auth?client_id=947318989803-6bn6qk8qdgf4n4g3pfee6491hc0brc4i.apps.googleusercontent.com&redirect_uri=urn%3Aietf%3Awg%3Aoauth%3A2.0%3Aoob&scope=email%20https%3A%2F%2Fwww.googleapis.com%2Fauth%2Fdocs.test%20https%3A%2F%2Fwww.googleapis.com%2Fauth%2Fdrive%20https%3A%2F%2Fwww.googleapis.com%2Fauth%2Fdrive.photos.readonly%20https%3A%2F%2Fwww.googleapis.com%2Fauth%2Fpeopleapi.readonly&response_type=code\n",
            "\n",
            "Enter your authorization code:\n",
            "··········\n",
            "Mounted at /drive\n"
          ],
          "name": "stdout"
        }
      ]
    },
    {
      "cell_type": "code",
      "metadata": {
        "id": "EFnnEWxngKj4",
        "colab_type": "code",
        "colab": {
          "base_uri": "https://localhost:8080/",
          "height": 1000
        },
        "outputId": "cba04b3a-e133-419c-8841-1452f40e2c58"
      },
      "source": [
        "print('/drive')\n",
        "!ls '/drive'\n",
        "print('/drive/My Drive')\n",
        "!ls '/drive/My Drive'"
      ],
      "execution_count": 9,
      "outputs": [
        {
          "output_type": "stream",
          "text": [
            "/drive\n",
            "'My Drive'\n",
            "/drive/My Drive\n",
            " 061110_201606.xls\n",
            " 061110_201606.xls.gsheet\n",
            "'2015-04-01 制御技術チーム.txt'\n",
            "'20151024 咲良と山梨ふたり旅.gdoc'\n",
            "'201510 Portland出張'\n",
            "'2015-11-4 制御技術チーム (1).txt'\n",
            "'2015-11-4 制御技術チーム.txt'\n",
            "'20160611 咲良と山梨ふたり旅 Retry.gdoc'\n",
            "'2016 06 12 議題.gdoc'\n",
            " 201609epay.pdf\n",
            "'2017-18 戸建て検討.gsheet'\n",
            "'20180531 山梨旅 5人で.gdoc'\n",
            " 20180801晃和FAX001.pdf\n",
            "'Address Information.gdoc'\n",
            " ASMC2019.gsheet\n",
            " Building+your+Deep+Neural+Network+-+Step+by+Step+v5.ipynb\n",
            "'Business Trip Baggage List.gdoc'\n",
            "'Colab Notebooks'\n",
            " Compare810vs824.pdf\n",
            " DC_HistoryDataset.gsheet\n",
            "'Deep Learning HW環境.gsheet'\n",
            " Deep+Neural+Network+-+Application+v3.ipynb\n",
            "'diam045 (1).pdf'\n",
            "'diam045 (2).pdf'\n",
            " diam045.pdf\n",
            "'[DL4US] 最終課題.gdoc'\n",
            " English\n",
            " Finance.gsheet\n",
            " おいわいのことば.gdoc\n",
            "'Hokkaido MISAKI.gmap'\n",
            "'Hokkaido キャンプ場.gmap'\n",
            "'I-company Organization Map.gsheet'\n",
            " IMG_2908-1.JPG\n",
            " IMG_2914.JPG\n",
            "'Industry Tech Info.gdoc'\n",
            "'John Image.jpg'\n",
            "'John Image.jpg.gdoc'\n",
            "'John Level.PNG'\n",
            " Logistic+Regression+with+a+Neural+Network+mindset+v4.ipynb\n",
            "'Machine Learning'\n",
            "'Machine Learning Info.gsheet'\n",
            " Maps\n",
            " Movies\n",
            "'My Tracks'\n",
            "'NBA Draft Lottery 2019.gsheet'\n",
            " Numerai.gsheet\n",
            " PersonalStuff\n",
            " Planar+data+classification+with+one+hidden+layer+v4.ipynb\n",
            " Python+Basics+With+Numpy+v3.ipynb\n",
            " sample.csv\n",
            "'SBI Acount.gsheet'\n",
            " Stock_InformationQA.gsheet\n",
            "'TEL AI開発部 緊急連絡網 2018.4.26版.gdoc'\n",
            " TEL.gsheet\n",
            " test_script.gscript\n",
            "'To Do List.gsheet'\n",
            " TT証明書.gdoc\n",
            "'US Portland 2015.gmap'\n",
            "'US TTCA NYC.gmap'\n",
            "'week2 Neural Network Basics.png'\n",
            "'week3 01_Neural Networks Overview_C1W3L01.pptx'\n",
            "'week3 01_Neural Networks Overview.mp4'\n",
            "'week3 02_Neural Network Representation_C1W3L02.pptx'\n",
            "'week3 02_Neural Network Representation.mp4'\n",
            "\"week3 03_Computing a Neural Network's Output.mp4\"\n",
            "'week3 04_Vectorizing across multiple examples_C1W3L03.pptx'\n",
            "'week3 04_Vectorizing across multiple examples.mp4'\n",
            "'week3 05_Explanation for Vectorized Implementation.mp4'\n",
            "'week3 06_Activation functions_C1W3L04.pptx'\n",
            "'week3 06_Activation functions.mp4'\n",
            "'week3 07_Why do you need non-linear activation functions_C1W3L05.pptx'\n",
            "'week3 07_Why do you need non-linear activation functions.mp4'\n",
            "'week3 08_Derivatives of activation functions_C1W3L06.pptx'\n",
            "'week3 08_Derivatives of activation functions.mp4'\n",
            "'week3 09_Gradient descent for Neural Networks_C1W3L07.pptx'\n",
            "'week3 09_Gradient descent for Neural Networks.mp4'\n",
            "'week3 10_Backpropagation intuition (optional)_C1W3L08.pptx'\n",
            "'week3 10_Backpropagation intuition (optional).mp4'\n",
            "'week3 11_Random Initialization_C1W3L09.pptx'\n",
            "'week3 11_Random Initialization.mp4'\n",
            "'week3 Shallow Neural Networks.png'\n",
            "'week4 01_Deep L-layer neural network.mp4'\n",
            "'week4 02_Forward Propagation in a Deep Network.mp4'\n",
            "'week4 03_Getting your matrix dimensions right_C1W4L02.pptx'\n",
            "'week4 03_Getting your matrix dimensions right.mp4'\n",
            "'week4 04_Why deep representations_C1W4L03.pptx'\n",
            "'week4 04_Why deep representations.mp4'\n",
            "'week4 05_Building blocks of deep neural networks_C1W4L04.pptx'\n",
            "'week4 05_Building blocks of deep neural networks.mp4'\n",
            "'week4 06_Forward and Backward Propagation_C1W4L06-ForwardBackProp_annotated.pdf'\n",
            "'week4 06_Forward and Backward Propagation.mp4'\n",
            "'week4 07_Parameters vs Hyperparameters_C1W4L05.pptx'\n",
            "'week4 07_Parameters vs Hyperparameters.mp4'\n",
            "'week4 08_What does this have to do with the brain_C1W4L06.pptx'\n",
            "'week4 08_What does this have to do with the brain.mp4'\n",
            " 不動産関係.gmap\n",
            " 使用済\n",
            " 双子育児物品管理.gsheet\n",
            " 咲良・奏・泉の身長体重.gsheet\n",
            " 土地選び.gsheet\n",
            " みんなの子供の名前.gsheet\n",
            " 年表.gsheet\n",
            " 年賀状あてな.gsheet\n",
            " 引っ越し関連手続き.gsheet\n",
            " 新居土地探し.gsheet\n",
            " 新生銀行\n",
            " 無題の地図.gmap\n",
            " 百ます計算.gsheet\n",
            " 筒井家管理情報（口座、その他）.gdoc\n",
            " 筒井邸新築工事　見積書2018.08.10.pdf\n",
            " 筒井邸新築工事　見積書2018.08.24.pdf\n",
            " 筒井邸　見積書0504.pdf\n",
            " 薪ストーブ比較.gsheet\n",
            " お試し画像認識.gdoc\n"
          ],
          "name": "stdout"
        }
      ]
    },
    {
      "cell_type": "code",
      "metadata": {
        "id": "mioGJk-pecSM",
        "colab_type": "code",
        "colab": {
          "base_uri": "https://localhost:8080/",
          "height": 204
        },
        "outputId": "64b4ef0f-ccc1-4148-89ef-adbe8f9b30ed"
      },
      "source": [
        "import pandas as pd\n",
        "df = pd.read_csv(\"/drive/My Drive/sample.csv\")\n",
        "df.head()"
      ],
      "execution_count": 4,
      "outputs": [
        {
          "output_type": "execute_result",
          "data": {
            "text/html": [
              "<div>\n",
              "<style scoped>\n",
              "    .dataframe tbody tr th:only-of-type {\n",
              "        vertical-align: middle;\n",
              "    }\n",
              "\n",
              "    .dataframe tbody tr th {\n",
              "        vertical-align: top;\n",
              "    }\n",
              "\n",
              "    .dataframe thead th {\n",
              "        text-align: right;\n",
              "    }\n",
              "</style>\n",
              "<table border=\"1\" class=\"dataframe\">\n",
              "  <thead>\n",
              "    <tr style=\"text-align: right;\">\n",
              "      <th></th>\n",
              "      <th>losses</th>\n",
              "      <th>a</th>\n",
              "      <th>b</th>\n",
              "      <th>c</th>\n",
              "      <th>d</th>\n",
              "      <th>e</th>\n",
              "      <th>f</th>\n",
              "      <th>g</th>\n",
              "      <th>h</th>\n",
              "    </tr>\n",
              "  </thead>\n",
              "  <tbody>\n",
              "    <tr>\n",
              "      <th>0</th>\n",
              "      <td>0.568653</td>\n",
              "      <td>-0.9718</td>\n",
              "      <td>-1.1902</td>\n",
              "      <td>-1.1902</td>\n",
              "      <td>-1.1902</td>\n",
              "      <td>-1.1902</td>\n",
              "      <td>-1.1902</td>\n",
              "      <td>-1.1902</td>\n",
              "      <td>-1.1902</td>\n",
              "    </tr>\n",
              "    <tr>\n",
              "      <th>1</th>\n",
              "      <td>0.216528</td>\n",
              "      <td>-0.9718</td>\n",
              "      <td>-1.1902</td>\n",
              "      <td>0.0000</td>\n",
              "      <td>0.0000</td>\n",
              "      <td>0.0000</td>\n",
              "      <td>0.0000</td>\n",
              "      <td>0.0000</td>\n",
              "      <td>0.0000</td>\n",
              "    </tr>\n",
              "    <tr>\n",
              "      <th>2</th>\n",
              "      <td>7.123082</td>\n",
              "      <td>-0.9718</td>\n",
              "      <td>-1.1902</td>\n",
              "      <td>1.1902</td>\n",
              "      <td>1.1902</td>\n",
              "      <td>1.1902</td>\n",
              "      <td>1.1902</td>\n",
              "      <td>1.1902</td>\n",
              "      <td>1.1902</td>\n",
              "    </tr>\n",
              "    <tr>\n",
              "      <th>3</th>\n",
              "      <td>2.752302</td>\n",
              "      <td>-0.9718</td>\n",
              "      <td>0.0000</td>\n",
              "      <td>-1.1902</td>\n",
              "      <td>-1.1902</td>\n",
              "      <td>0.0000</td>\n",
              "      <td>0.0000</td>\n",
              "      <td>1.1902</td>\n",
              "      <td>1.1902</td>\n",
              "    </tr>\n",
              "    <tr>\n",
              "      <th>4</th>\n",
              "      <td>6.825523</td>\n",
              "      <td>-0.9718</td>\n",
              "      <td>0.0000</td>\n",
              "      <td>0.0000</td>\n",
              "      <td>0.0000</td>\n",
              "      <td>1.1902</td>\n",
              "      <td>1.1902</td>\n",
              "      <td>-1.1902</td>\n",
              "      <td>-1.1902</td>\n",
              "    </tr>\n",
              "  </tbody>\n",
              "</table>\n",
              "</div>"
            ],
            "text/plain": [
              "     losses       a       b       c       d       e       f       g       h\n",
              "0  0.568653 -0.9718 -1.1902 -1.1902 -1.1902 -1.1902 -1.1902 -1.1902 -1.1902\n",
              "1  0.216528 -0.9718 -1.1902  0.0000  0.0000  0.0000  0.0000  0.0000  0.0000\n",
              "2  7.123082 -0.9718 -1.1902  1.1902  1.1902  1.1902  1.1902  1.1902  1.1902\n",
              "3  2.752302 -0.9718  0.0000 -1.1902 -1.1902  0.0000  0.0000  1.1902  1.1902\n",
              "4  6.825523 -0.9718  0.0000  0.0000  0.0000  1.1902  1.1902 -1.1902 -1.1902"
            ]
          },
          "metadata": {
            "tags": []
          },
          "execution_count": 4
        }
      ]
    },
    {
      "cell_type": "markdown",
      "metadata": {
        "id": "8GvGKS2KcfNB",
        "colab_type": "text"
      },
      "source": [
        "# 学習と予測"
      ]
    },
    {
      "cell_type": "code",
      "metadata": {
        "id": "8vlUgEqCBEg9",
        "colab_type": "code",
        "colab": {
          "base_uri": "https://localhost:8080/",
          "height": 372
        },
        "outputId": "d15332b3-02af-42ef-a6dc-12fb26b14251"
      },
      "source": [
        "import numpy as np\n",
        "import autosklearn.classification\n",
        "import autosklearn.regression\n",
        "import sklearn.model_selection\n",
        "import sklearn.metrics\n",
        "\n",
        "# import sklearn.datasets\n",
        "# X, y = sklearn.datasets.load_digits(return_X_y=True)\n",
        "y = np.array(df['losses'])\n",
        "X = np.array(df[[x for x in df.columns if x != 'losses']])\n",
        "\n",
        "print(type(y), y.shape)\n",
        "print(type(X), X.shape)\n",
        "\n",
        "\n",
        "X_train, X_test, y_train, y_test = \\\n",
        "        sklearn.model_selection.train_test_split(X, y, random_state=1)\n",
        "# automl = autosklearn.classification.AutoSklearnClassifier()\n",
        "automl = autosklearn.regression.AutoSklearnRegressor(\n",
        "    time_left_for_this_task=3600,\n",
        "    per_run_time_limit=300,\n",
        ")\n",
        "automl.fit(X_train, y_train)\n",
        "\n"
      ],
      "execution_count": 10,
      "outputs": [
        {
          "output_type": "error",
          "ename": "ModuleNotFoundError",
          "evalue": "ignored",
          "traceback": [
            "\u001b[0;31m---------------------------------------------------------------------------\u001b[0m",
            "\u001b[0;31mModuleNotFoundError\u001b[0m                       Traceback (most recent call last)",
            "\u001b[0;32m<ipython-input-10-ef869ef897f1>\u001b[0m in \u001b[0;36m<module>\u001b[0;34m()\u001b[0m\n\u001b[1;32m      1\u001b[0m \u001b[0;32mimport\u001b[0m \u001b[0mnumpy\u001b[0m \u001b[0;32mas\u001b[0m \u001b[0mnp\u001b[0m\u001b[0;34m\u001b[0m\u001b[0;34m\u001b[0m\u001b[0m\n\u001b[0;32m----> 2\u001b[0;31m \u001b[0;32mimport\u001b[0m \u001b[0mautosklearn\u001b[0m\u001b[0;34m.\u001b[0m\u001b[0mclassification\u001b[0m\u001b[0;34m\u001b[0m\u001b[0;34m\u001b[0m\u001b[0m\n\u001b[0m\u001b[1;32m      3\u001b[0m \u001b[0;32mimport\u001b[0m \u001b[0mautosklearn\u001b[0m\u001b[0;34m.\u001b[0m\u001b[0mregression\u001b[0m\u001b[0;34m\u001b[0m\u001b[0;34m\u001b[0m\u001b[0m\n\u001b[1;32m      4\u001b[0m \u001b[0;32mimport\u001b[0m \u001b[0msklearn\u001b[0m\u001b[0;34m.\u001b[0m\u001b[0mmodel_selection\u001b[0m\u001b[0;34m\u001b[0m\u001b[0;34m\u001b[0m\u001b[0m\n\u001b[1;32m      5\u001b[0m \u001b[0;32mimport\u001b[0m \u001b[0msklearn\u001b[0m\u001b[0;34m.\u001b[0m\u001b[0mmetrics\u001b[0m\u001b[0;34m\u001b[0m\u001b[0;34m\u001b[0m\u001b[0m\n",
            "\u001b[0;31mModuleNotFoundError\u001b[0m: No module named 'autosklearn'",
            "",
            "\u001b[0;31m---------------------------------------------------------------------------\u001b[0;32m\nNOTE: If your import is failing due to a missing package, you can\nmanually install dependencies using either !pip or !apt.\n\nTo view examples of installing some common dependencies, click the\n\"Open Examples\" button below.\n\u001b[0;31m---------------------------------------------------------------------------\u001b[0m\n"
          ]
        }
      ]
    },
    {
      "cell_type": "code",
      "metadata": {
        "id": "yQBpwB6FlYHL",
        "colab_type": "code",
        "colab": {
          "base_uri": "https://localhost:8080/",
          "height": 51
        },
        "outputId": "a9091605-5802-4c11-c1fb-46257beb2564"
      },
      "source": [
        "y_hat = automl.predict(X_test)\n",
        "r2 = sklearn.metrics.r2_score(y_test, y_hat)\n",
        "mae = sklearn.metrics.mean_absolute_error(y_test, y_hat)\n",
        "print(\"R2 score:\", r2)\n",
        "print(\"MAE:\", mae)"
      ],
      "execution_count": 40,
      "outputs": [
        {
          "output_type": "stream",
          "text": [
            "R2 score: 0.5949220060493425\n",
            "MAE: 0.9643246126274171\n"
          ],
          "name": "stdout"
        }
      ]
    },
    {
      "cell_type": "markdown",
      "metadata": {
        "id": "cvabxMu-ofab",
        "colab_type": "text"
      },
      "source": [
        "# 学習済みモデルをファイルに保存"
      ]
    },
    {
      "cell_type": "code",
      "metadata": {
        "id": "fj3AGulfj6lP",
        "colab_type": "code",
        "colab": {}
      },
      "source": [
        "import pickle\n",
        "with open('/drive/My Drive/mymodel','wb') as f:\n",
        "        pickle.dump(automl,f)"
      ],
      "execution_count": 0,
      "outputs": []
    },
    {
      "cell_type": "markdown",
      "metadata": {
        "id": "xqVAIl5IoiDp",
        "colab_type": "text"
      },
      "source": [
        "# 保存したモデルをロード\n"
      ]
    },
    {
      "cell_type": "code",
      "metadata": {
        "id": "K0ED0zlCoFos",
        "colab_type": "code",
        "colab": {
          "base_uri": "https://localhost:8080/",
          "height": 202
        },
        "outputId": "cb399ead-1018-43d7-8c2c-cf8fad9780b8"
      },
      "source": [
        "with open('/drive/My Drive/mymodel', 'rb') as fin:\n",
        "       load_automl = pickle.load(fin)\n",
        "\n"
      ],
      "execution_count": 7,
      "outputs": [
        {
          "output_type": "error",
          "ename": "FileNotFoundError",
          "evalue": "ignored",
          "traceback": [
            "\u001b[0;31m---------------------------------------------------------------------------\u001b[0m",
            "\u001b[0;31mFileNotFoundError\u001b[0m                         Traceback (most recent call last)",
            "\u001b[0;32m<ipython-input-7-353c8149f0a9>\u001b[0m in \u001b[0;36m<module>\u001b[0;34m()\u001b[0m\n\u001b[0;32m----> 1\u001b[0;31m \u001b[0;32mwith\u001b[0m \u001b[0mopen\u001b[0m\u001b[0;34m(\u001b[0m\u001b[0;34m'mymodel'\u001b[0m\u001b[0;34m,\u001b[0m \u001b[0;34m'rb'\u001b[0m\u001b[0;34m)\u001b[0m \u001b[0;32mas\u001b[0m \u001b[0mfin\u001b[0m\u001b[0;34m:\u001b[0m\u001b[0;34m\u001b[0m\u001b[0;34m\u001b[0m\u001b[0m\n\u001b[0m\u001b[1;32m      2\u001b[0m        \u001b[0mload_automl\u001b[0m \u001b[0;34m=\u001b[0m \u001b[0mpickle\u001b[0m\u001b[0;34m.\u001b[0m\u001b[0mload\u001b[0m\u001b[0;34m(\u001b[0m\u001b[0mfin\u001b[0m\u001b[0;34m)\u001b[0m\u001b[0;34m\u001b[0m\u001b[0;34m\u001b[0m\u001b[0m\n\u001b[1;32m      3\u001b[0m \u001b[0;34m\u001b[0m\u001b[0m\n",
            "\u001b[0;31mFileNotFoundError\u001b[0m: [Errno 2] No such file or directory: 'mymodel'"
          ]
        }
      ]
    },
    {
      "cell_type": "markdown",
      "metadata": {
        "id": "TpjI89mmo6Ra",
        "colab_type": "text"
      },
      "source": [
        "# 動作確認\n",
        "\n",
        "同じスコアが出ればファイルから読み込んだモデルの動作確認成功。"
      ]
    },
    {
      "cell_type": "code",
      "metadata": {
        "id": "s7TAP_rMoLDj",
        "colab_type": "code",
        "colab": {
          "base_uri": "https://localhost:8080/",
          "height": 51
        },
        "outputId": "ecb5fe27-7662-4b67-d2dc-0bc27394c818"
      },
      "source": [
        "# y_hat = load_automl.predict(X_test)\n",
        "# print(\"Accuracy score\", sklearn.metrics.accuracy_score(y_test, y_hat))\n",
        "\n",
        "import sklearn.metrics\n",
        "\n",
        "y_predictions = load_automl.predict(X_test)\n",
        "r2 = sklearn.metrics.r2_score(y_test, y_predictions)\n",
        "mae = sklearn.metrics.mean_absolute_error(y_test, y_predictions)\n",
        "print(\"R2 score:\", r2)\n",
        "print(\"MAE:\", mae)"
      ],
      "execution_count": 43,
      "outputs": [
        {
          "output_type": "stream",
          "text": [
            "R2 score: 0.5949220060493425\n",
            "MAE: 0.9643246126274171\n"
          ],
          "name": "stdout"
        }
      ]
    }
  ]
}